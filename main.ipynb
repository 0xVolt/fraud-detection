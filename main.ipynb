{
  "cells": [
    {
      "cell_type": "code",
      "execution_count": 2,
      "metadata": {
        "id": "eoGa1Q8UB9OQ"
      },
      "outputs": [],
      "source": [
        "import numpy as np\n",
        "import pandas as pd\n",
        "import matplotlib.pyplot as plt\n",
        "import seaborn as sns\n",
        "import io\n",
        "\n",
        "from sklearn.model_selection import train_test_split\n",
        "from sklearn.preprocessing import StandardScaler\n",
        "\n",
        "from sklearn.tree import DecisionTreeClassifier\n",
        "from sklearn.ensemble import RandomForestClassifier\n",
        "from sklearn.linear_model import LogisticRegression\n",
        "from sklearn.neighbors import KNeighborsClassifier\n",
        "from sklearn.metrics import confusion_matrix, accuracy_score, f1_score, classification_report\n",
        "\n",
        "import warnings\n",
        "warnings.filterwarnings('ignore')"
      ]
    },
    {
      "cell_type": "code",
      "execution_count": 3,
      "metadata": {
        "colab": {
          "base_uri": "https://localhost:8080/"
        },
        "id": "UeCcBfmLA7FQ",
        "outputId": "3e3f81e7-d422-4d5d-dac0-39053e89e6f8"
      },
      "outputs": [
        {
          "name": "stdout",
          "output_type": "stream",
          "text": [
            "        distance_from_home  distance_from_last_transaction  \\\n",
            "0                57.877857                        0.311140   \n",
            "1                10.829943                        0.175592   \n",
            "2                 5.091079                        0.805153   \n",
            "3                 2.247564                        5.600044   \n",
            "4                44.190936                        0.566486   \n",
            "...                    ...                             ...   \n",
            "999995            2.207101                        0.112651   \n",
            "999996           19.872726                        2.683904   \n",
            "999997            2.914857                        1.472687   \n",
            "999998            4.258729                        0.242023   \n",
            "999999           58.108125                        0.318110   \n",
            "\n",
            "        ratio_to_median_purchase_price  repeat_retailer  used_chip  \\\n",
            "0                             1.945940              1.0        1.0   \n",
            "1                             1.294219              1.0        0.0   \n",
            "2                             0.427715              1.0        0.0   \n",
            "3                             0.362663              1.0        1.0   \n",
            "4                             2.222767              1.0        1.0   \n",
            "...                                ...              ...        ...   \n",
            "999995                        1.626798              1.0        1.0   \n",
            "999996                        2.778303              1.0        1.0   \n",
            "999997                        0.218075              1.0        1.0   \n",
            "999998                        0.475822              1.0        0.0   \n",
            "999999                        0.386920              1.0        1.0   \n",
            "\n",
            "        used_pin_number  online_order  fraud  \n",
            "0                   0.0           0.0    0.0  \n",
            "1                   0.0           0.0    0.0  \n",
            "2                   0.0           1.0    0.0  \n",
            "3                   0.0           1.0    0.0  \n",
            "4                   0.0           1.0    0.0  \n",
            "...                 ...           ...    ...  \n",
            "999995              0.0           0.0    0.0  \n",
            "999996              0.0           0.0    0.0  \n",
            "999997              0.0           1.0    0.0  \n",
            "999998              0.0           1.0    0.0  \n",
            "999999              0.0           1.0    0.0  \n",
            "\n",
            "[1000000 rows x 8 columns]\n"
          ]
        }
      ],
      "source": [
        "link = 'https://drive.google.com/file/d/1U6sln-F7QDf1LFgtPz11G5qKCs4Wh_AK/view?usp=sharing'\n",
        " \n",
        "df = pd.read_csv('card_transdata.csv')\n",
        "print(df)"
      ]
    },
    {
      "cell_type": "code",
      "execution_count": 4,
      "metadata": {
        "colab": {
          "base_uri": "https://localhost:8080/",
          "height": 206
        },
        "id": "pkeBtEo6BZ0l",
        "outputId": "9788eddd-74fd-4249-991b-50c68b958adc"
      },
      "outputs": [
        {
          "data": {
            "text/html": [
              "<div>\n",
              "<style scoped>\n",
              "    .dataframe tbody tr th:only-of-type {\n",
              "        vertical-align: middle;\n",
              "    }\n",
              "\n",
              "    .dataframe tbody tr th {\n",
              "        vertical-align: top;\n",
              "    }\n",
              "\n",
              "    .dataframe thead th {\n",
              "        text-align: right;\n",
              "    }\n",
              "</style>\n",
              "<table border=\"1\" class=\"dataframe\">\n",
              "  <thead>\n",
              "    <tr style=\"text-align: right;\">\n",
              "      <th></th>\n",
              "      <th>distance_from_home</th>\n",
              "      <th>distance_from_last_transaction</th>\n",
              "      <th>ratio_to_median_purchase_price</th>\n",
              "      <th>repeat_retailer</th>\n",
              "      <th>used_chip</th>\n",
              "      <th>used_pin_number</th>\n",
              "      <th>online_order</th>\n",
              "      <th>fraud</th>\n",
              "    </tr>\n",
              "  </thead>\n",
              "  <tbody>\n",
              "    <tr>\n",
              "      <th>0</th>\n",
              "      <td>57.877857</td>\n",
              "      <td>0.311140</td>\n",
              "      <td>1.945940</td>\n",
              "      <td>1.0</td>\n",
              "      <td>1.0</td>\n",
              "      <td>0.0</td>\n",
              "      <td>0.0</td>\n",
              "      <td>0.0</td>\n",
              "    </tr>\n",
              "    <tr>\n",
              "      <th>1</th>\n",
              "      <td>10.829943</td>\n",
              "      <td>0.175592</td>\n",
              "      <td>1.294219</td>\n",
              "      <td>1.0</td>\n",
              "      <td>0.0</td>\n",
              "      <td>0.0</td>\n",
              "      <td>0.0</td>\n",
              "      <td>0.0</td>\n",
              "    </tr>\n",
              "    <tr>\n",
              "      <th>2</th>\n",
              "      <td>5.091079</td>\n",
              "      <td>0.805153</td>\n",
              "      <td>0.427715</td>\n",
              "      <td>1.0</td>\n",
              "      <td>0.0</td>\n",
              "      <td>0.0</td>\n",
              "      <td>1.0</td>\n",
              "      <td>0.0</td>\n",
              "    </tr>\n",
              "    <tr>\n",
              "      <th>3</th>\n",
              "      <td>2.247564</td>\n",
              "      <td>5.600044</td>\n",
              "      <td>0.362663</td>\n",
              "      <td>1.0</td>\n",
              "      <td>1.0</td>\n",
              "      <td>0.0</td>\n",
              "      <td>1.0</td>\n",
              "      <td>0.0</td>\n",
              "    </tr>\n",
              "    <tr>\n",
              "      <th>4</th>\n",
              "      <td>44.190936</td>\n",
              "      <td>0.566486</td>\n",
              "      <td>2.222767</td>\n",
              "      <td>1.0</td>\n",
              "      <td>1.0</td>\n",
              "      <td>0.0</td>\n",
              "      <td>1.0</td>\n",
              "      <td>0.0</td>\n",
              "    </tr>\n",
              "  </tbody>\n",
              "</table>\n",
              "</div>"
            ],
            "text/plain": [
              "   distance_from_home  distance_from_last_transaction  \\\n",
              "0           57.877857                        0.311140   \n",
              "1           10.829943                        0.175592   \n",
              "2            5.091079                        0.805153   \n",
              "3            2.247564                        5.600044   \n",
              "4           44.190936                        0.566486   \n",
              "\n",
              "   ratio_to_median_purchase_price  repeat_retailer  used_chip  \\\n",
              "0                        1.945940              1.0        1.0   \n",
              "1                        1.294219              1.0        0.0   \n",
              "2                        0.427715              1.0        0.0   \n",
              "3                        0.362663              1.0        1.0   \n",
              "4                        2.222767              1.0        1.0   \n",
              "\n",
              "   used_pin_number  online_order  fraud  \n",
              "0              0.0           0.0    0.0  \n",
              "1              0.0           0.0    0.0  \n",
              "2              0.0           1.0    0.0  \n",
              "3              0.0           1.0    0.0  \n",
              "4              0.0           1.0    0.0  "
            ]
          },
          "execution_count": 4,
          "metadata": {},
          "output_type": "execute_result"
        }
      ],
      "source": [
        "df.head()"
      ]
    },
    {
      "cell_type": "code",
      "execution_count": 5,
      "metadata": {
        "colab": {
          "base_uri": "https://localhost:8080/"
        },
        "id": "XmKXVTViBfxD",
        "outputId": "5560ab2d-386c-4863-fce4-989deec85315"
      },
      "outputs": [
        {
          "name": "stdout",
          "output_type": "stream",
          "text": [
            "Dataset shape :- \n",
            " (1000000, 8)\n"
          ]
        }
      ],
      "source": [
        "print(\"Dataset shape :- \\n\", df.shape)\n",
        "# This tells us about the shape of the data. This tells that how many columns and rows are there in data file"
      ]
    },
    {
      "cell_type": "code",
      "execution_count": 6,
      "metadata": {
        "colab": {
          "base_uri": "https://localhost:8080/",
          "height": 300
        },
        "id": "RKRt0ExUASQj",
        "outputId": "30cfc059-ca31-4f35-9eed-80e5b48f1059"
      },
      "outputs": [
        {
          "data": {
            "text/html": [
              "<div>\n",
              "<style scoped>\n",
              "    .dataframe tbody tr th:only-of-type {\n",
              "        vertical-align: middle;\n",
              "    }\n",
              "\n",
              "    .dataframe tbody tr th {\n",
              "        vertical-align: top;\n",
              "    }\n",
              "\n",
              "    .dataframe thead th {\n",
              "        text-align: right;\n",
              "    }\n",
              "</style>\n",
              "<table border=\"1\" class=\"dataframe\">\n",
              "  <thead>\n",
              "    <tr style=\"text-align: right;\">\n",
              "      <th></th>\n",
              "      <th>distance_from_home</th>\n",
              "      <th>distance_from_last_transaction</th>\n",
              "      <th>ratio_to_median_purchase_price</th>\n",
              "      <th>repeat_retailer</th>\n",
              "      <th>used_chip</th>\n",
              "      <th>used_pin_number</th>\n",
              "      <th>online_order</th>\n",
              "      <th>fraud</th>\n",
              "    </tr>\n",
              "  </thead>\n",
              "  <tbody>\n",
              "    <tr>\n",
              "      <th>count</th>\n",
              "      <td>1000000.000000</td>\n",
              "      <td>1000000.000000</td>\n",
              "      <td>1000000.000000</td>\n",
              "      <td>1000000.000000</td>\n",
              "      <td>1000000.000000</td>\n",
              "      <td>1000000.000000</td>\n",
              "      <td>1000000.000000</td>\n",
              "      <td>1000000.000000</td>\n",
              "    </tr>\n",
              "    <tr>\n",
              "      <th>mean</th>\n",
              "      <td>26.628792</td>\n",
              "      <td>5.036519</td>\n",
              "      <td>1.824182</td>\n",
              "      <td>0.881536</td>\n",
              "      <td>0.350399</td>\n",
              "      <td>0.100608</td>\n",
              "      <td>0.650552</td>\n",
              "      <td>0.087403</td>\n",
              "    </tr>\n",
              "    <tr>\n",
              "      <th>std</th>\n",
              "      <td>65.390784</td>\n",
              "      <td>25.843093</td>\n",
              "      <td>2.799589</td>\n",
              "      <td>0.323157</td>\n",
              "      <td>0.477095</td>\n",
              "      <td>0.300809</td>\n",
              "      <td>0.476796</td>\n",
              "      <td>0.282425</td>\n",
              "    </tr>\n",
              "    <tr>\n",
              "      <th>min</th>\n",
              "      <td>0.004874</td>\n",
              "      <td>0.000118</td>\n",
              "      <td>0.004399</td>\n",
              "      <td>0.000000</td>\n",
              "      <td>0.000000</td>\n",
              "      <td>0.000000</td>\n",
              "      <td>0.000000</td>\n",
              "      <td>0.000000</td>\n",
              "    </tr>\n",
              "    <tr>\n",
              "      <th>25%</th>\n",
              "      <td>3.878008</td>\n",
              "      <td>0.296671</td>\n",
              "      <td>0.475673</td>\n",
              "      <td>1.000000</td>\n",
              "      <td>0.000000</td>\n",
              "      <td>0.000000</td>\n",
              "      <td>0.000000</td>\n",
              "      <td>0.000000</td>\n",
              "    </tr>\n",
              "    <tr>\n",
              "      <th>50%</th>\n",
              "      <td>9.967760</td>\n",
              "      <td>0.998650</td>\n",
              "      <td>0.997717</td>\n",
              "      <td>1.000000</td>\n",
              "      <td>0.000000</td>\n",
              "      <td>0.000000</td>\n",
              "      <td>1.000000</td>\n",
              "      <td>0.000000</td>\n",
              "    </tr>\n",
              "    <tr>\n",
              "      <th>75%</th>\n",
              "      <td>25.743985</td>\n",
              "      <td>3.355748</td>\n",
              "      <td>2.096370</td>\n",
              "      <td>1.000000</td>\n",
              "      <td>1.000000</td>\n",
              "      <td>0.000000</td>\n",
              "      <td>1.000000</td>\n",
              "      <td>0.000000</td>\n",
              "    </tr>\n",
              "    <tr>\n",
              "      <th>max</th>\n",
              "      <td>10632.723672</td>\n",
              "      <td>11851.104565</td>\n",
              "      <td>267.802942</td>\n",
              "      <td>1.000000</td>\n",
              "      <td>1.000000</td>\n",
              "      <td>1.000000</td>\n",
              "      <td>1.000000</td>\n",
              "      <td>1.000000</td>\n",
              "    </tr>\n",
              "  </tbody>\n",
              "</table>\n",
              "</div>"
            ],
            "text/plain": [
              "       distance_from_home  distance_from_last_transaction  \\\n",
              "count      1000000.000000                  1000000.000000   \n",
              "mean            26.628792                        5.036519   \n",
              "std             65.390784                       25.843093   \n",
              "min              0.004874                        0.000118   \n",
              "25%              3.878008                        0.296671   \n",
              "50%              9.967760                        0.998650   \n",
              "75%             25.743985                        3.355748   \n",
              "max          10632.723672                    11851.104565   \n",
              "\n",
              "       ratio_to_median_purchase_price  repeat_retailer       used_chip  \\\n",
              "count                  1000000.000000   1000000.000000  1000000.000000   \n",
              "mean                         1.824182         0.881536        0.350399   \n",
              "std                          2.799589         0.323157        0.477095   \n",
              "min                          0.004399         0.000000        0.000000   \n",
              "25%                          0.475673         1.000000        0.000000   \n",
              "50%                          0.997717         1.000000        0.000000   \n",
              "75%                          2.096370         1.000000        1.000000   \n",
              "max                        267.802942         1.000000        1.000000   \n",
              "\n",
              "       used_pin_number    online_order           fraud  \n",
              "count   1000000.000000  1000000.000000  1000000.000000  \n",
              "mean          0.100608        0.650552        0.087403  \n",
              "std           0.300809        0.476796        0.282425  \n",
              "min           0.000000        0.000000        0.000000  \n",
              "25%           0.000000        0.000000        0.000000  \n",
              "50%           0.000000        1.000000        0.000000  \n",
              "75%           0.000000        1.000000        0.000000  \n",
              "max           1.000000        1.000000        1.000000  "
            ]
          },
          "execution_count": 6,
          "metadata": {},
          "output_type": "execute_result"
        }
      ],
      "source": [
        "df.describe()"
      ]
    },
    {
      "cell_type": "code",
      "execution_count": 7,
      "metadata": {
        "colab": {
          "base_uri": "https://localhost:8080/"
        },
        "id": "124DfYZNCPM7",
        "outputId": "d3185f6c-c2ef-45e3-9065-bf9146133729"
      },
      "outputs": [
        {
          "name": "stdout",
          "output_type": "stream",
          "text": [
            "Cases count in total\n",
            "///////////-------------------///////////////\n",
            "Total Repeat retailer is :- 881536\n",
            "Total NonRepeat retailer is :- 118464\n"
          ]
        }
      ],
      "source": [
        "repeatretailer = len(df[df.repeat_retailer ==1])\n",
        "nonrepeatretailer = len(df[df.repeat_retailer == 0])\n",
        "\n",
        "print('Cases count in total')\n",
        "print('///////////-------------------///////////////')\n",
        "print('Total Repeat retailer is :-', repeatretailer)\n",
        "print('Total NonRepeat retailer is :-', nonrepeatretailer)"
      ]
    },
    {
      "cell_type": "code",
      "execution_count": 8,
      "metadata": {
        "colab": {
          "base_uri": "https://localhost:8080/",
          "height": 289
        },
        "id": "os5rPi-oLYMU",
        "outputId": "3d866365-961e-481f-8824-b4f829440b5a"
      },
      "outputs": [
        {
          "data": {
            "image/png": "[encoded data removed]",
            "text/plain": [
              "<Figure size 432x288 with 1 Axes>"
            ]
          },
          "metadata": {
            "needs_background": "light"
          },
          "output_type": "display_data"
        }
      ],
      "source": [
        "plt.plot([repeatretailer,nonrepeatretailer], [881536,118464], 'ro')\n",
        "plt.axis([0, 1000000, 0, 1000000])\n",
        "plt.show()"
      ]
    },
    {
      "cell_type": "code",
      "execution_count": 9,
      "metadata": {
        "colab": {
          "base_uri": "https://localhost:8080/"
        },
        "id": "9AVjzcf-PsSK",
        "outputId": "6377a2a0-ab34-4f77-9911-e183f64a81f0"
      },
      "outputs": [
        {
          "name": "stdout",
          "output_type": "stream",
          "text": [
            "Fraud and Not Fraud Cases in Total\n",
            "Total Fraud Reported :- 87403\n",
            "Total NotFraud Reported :- 912597\n"
          ]
        }
      ],
      "source": [
        "frauddetected = len(df[df.fraud == 1])\n",
        "fraudnotdetected = len(df[df.fraud == 0])\n",
        "print('Fraud and Not Fraud Cases in Total')\n",
        "print('Total Fraud Reported :-', frauddetected)\n",
        "print('Total NotFraud Reported :-', fraudnotdetected)"
      ]
    },
    {
      "cell_type": "code",
      "execution_count": 10,
      "metadata": {
        "colab": {
          "base_uri": "https://localhost:8080/",
          "height": 269
        },
        "id": "MKlo6gf7N22E",
        "outputId": "478f1466-987f-4b9f-a8cc-75f52cacd887"
      },
      "outputs": [
        {
          "data": {
            "image/png": "[encoded data removed]",
            "text/plain": [
              "<Figure size 432x288 with 1 Axes>"
            ]
          },
          "metadata": {
            "needs_background": "light"
          },
          "output_type": "display_data"
        }
      ],
      "source": [
        "plt.plot([frauddetected,fraudnotdetected], [87403,912597], 'ro')\n",
        "plt.axis([0, 90000, 0, 100000])\n",
        "plt.show()"
      ]
    },
    {
      "cell_type": "code",
      "execution_count": 11,
      "metadata": {
        "colab": {
          "base_uri": "https://localhost:8080/"
        },
        "id": "cQxzFdzpJSwI",
        "outputId": "dc7d46ca-b70d-4ca6-cec5-331ba72027d8"
      },
      "outputs": [
        {
          "name": "stdout",
          "output_type": "stream",
          "text": [
            "Count for chip used \n",
            "Chip used  :- 350399\n",
            "Chip not used :- 649601\n"
          ]
        }
      ],
      "source": [
        "chipused = len(df[df.used_chip == 1])\n",
        "chipnotused = len(df[df.used_chip == 0])\n",
        "print('Count for chip used ')\n",
        "print('Chip used  :-', chipused)\n",
        "print('Chip not used :-', chipnotused)"
      ]
    },
    {
      "cell_type": "code",
      "execution_count": 12,
      "metadata": {
        "colab": {
          "base_uri": "https://localhost:8080/",
          "height": 289
        },
        "id": "gdPiyZUaOugh",
        "outputId": "8a7b9b19-ae28-4045-9609-b6b8d9392ab4"
      },
      "outputs": [
        {
          "data": {
            "image/png": "[encoded data removed]",
            "text/plain": [
              "<Figure size 432x288 with 1 Axes>"
            ]
          },
          "metadata": {
            "needs_background": "light"
          },
          "output_type": "display_data"
        }
      ],
      "source": [
        "plt.plot([chipused,chipnotused], [350399,649601], 'ro')\n",
        "plt.axis([0, 1000000, 0, 1000000])\n",
        "plt.show()"
      ]
    },
    {
      "cell_type": "code",
      "execution_count": 13,
      "metadata": {
        "colab": {
          "base_uri": "https://localhost:8080/"
        },
        "id": "o1eCMMYHK-HA",
        "outputId": "e61a4dac-2cae-4ba2-dc0a-6bb26df16c31"
      },
      "outputs": [
        {
          "name": "stdout",
          "output_type": "stream",
          "text": [
            "Total individual count for online and offline order placed \n",
            "Online order placed  :- 650552\n",
            "Online order placed :- 349448\n"
          ]
        }
      ],
      "source": [
        "onlineorderplaced = len(df[df.online_order == 1])\n",
        "onlineordernotplaced = len(df[df.online_order == 0])\n",
        "print('Total individual count for online and offline order placed ')\n",
        "print('Online order placed  :-', onlineorderplaced)\n",
        "print('Online order placed :-', onlineordernotplaced)"
      ]
    },
    {
      "cell_type": "code",
      "execution_count": 14,
      "metadata": {
        "colab": {
          "base_uri": "https://localhost:8080/",
          "height": 655
        },
        "id": "kVZN2qsdhGx5",
        "outputId": "f4b32881-8a82-48a3-c369-db4126b4023e"
      },
      "outputs": [
        {
          "data": {
            "text/plain": [
              "<AxesSubplot:>"
            ]
          },
          "execution_count": 14,
          "metadata": {},
          "output_type": "execute_result"
        },
        {
          "data": {
            "image/png": "[encoded data removed]",
            "text/plain": [
              "<Figure size 720x576 with 2 Axes>"
            ]
          },
          "metadata": {
            "needs_background": "light"
          },
          "output_type": "display_data"
        }
      ],
      "source": [
        "plt.figure(figsize=(10,8))\n",
        "sns.heatmap(df.corr(),annot=True)"
      ]
    },
    {
      "cell_type": "code",
      "execution_count": 15,
      "metadata": {
        "colab": {
          "base_uri": "https://localhost:8080/"
        },
        "id": "0CY58fBltAWa",
        "outputId": "bad5b693-87ed-416c-d5cb-59242b47990d"
      },
      "outputs": [
        {
          "name": "stdout",
          "output_type": "stream",
          "text": [
            "Unique values of target variables are:- [0. 1.]\n"
          ]
        }
      ],
      "source": [
        "print('Unique values of target variables are:-', df['fraud'].unique())\n"
      ]
    },
    {
      "cell_type": "code",
      "execution_count": 16,
      "metadata": {
        "id": "XKeni_esuSsR"
      },
      "outputs": [],
      "source": [
        "# The target variable has two variables 0 and 1 respectively. Here 0 is for No fraud transactions and 1 is for fraud transactions"
      ]
    },
    {
      "cell_type": "code",
      "execution_count": 17,
      "metadata": {
        "colab": {
          "base_uri": "https://localhost:8080/"
        },
        "id": "iMq6mCd4urxN",
        "outputId": "bfcb0689-6890-4ad7-d938-2ee3ac22bf5d"
      },
      "outputs": [
        {
          "name": "stdout",
          "output_type": "stream",
          "text": [
            "Number of samples under each target value :- \n",
            " 0.0    912597\n",
            "1.0     87403\n",
            "Name: fraud, dtype: int64\n"
          ]
        }
      ],
      "source": [
        "print('Number of samples under each target value :- \\n',df['fraud'].value_counts())"
      ]
    },
    {
      "cell_type": "code",
      "execution_count": 18,
      "metadata": {
        "colab": {
          "base_uri": "https://localhost:8080/"
        },
        "id": "G5fLox3SvowE",
        "outputId": "5436ab14-0676-4e6e-e822-acf599d364c5"
      },
      "outputs": [
        {
          "data": {
            "text/plain": [
              "distance_from_home                0\n",
              "distance_from_last_transaction    0\n",
              "ratio_to_median_purchase_price    0\n",
              "repeat_retailer                   0\n",
              "used_chip                         0\n",
              "used_pin_number                   0\n",
              "online_order                      0\n",
              "fraud                             0\n",
              "dtype: int64"
            ]
          },
          "execution_count": 18,
          "metadata": {},
          "output_type": "execute_result"
        }
      ],
      "source": [
        "df.isnull().sum()"
      ]
    },
    {
      "cell_type": "code",
      "execution_count": 19,
      "metadata": {
        "id": "RL6ThNpSwEtk"
      },
      "outputs": [],
      "source": [
        "# NOW WE ARE TRANSFORMING THE DATA "
      ]
    },
    {
      "cell_type": "code",
      "execution_count": 20,
      "metadata": {
        "id": "-GGmEfc2wkf1"
      },
      "outputs": [],
      "source": [
        "sc = StandardScaler()\n",
        "amount = df['distance_from_home'].values\n",
        "\n",
        "df['distance_from_home'] = sc.fit_transform(amount.reshape(-1,1))"
      ]
    },
    {
      "cell_type": "code",
      "execution_count": 21,
      "metadata": {
        "colab": {
          "base_uri": "https://localhost:8080/"
        },
        "id": "YKvCPNxGx6jZ",
        "outputId": "b555f9e8-07b9-4987-d459-eef9948aeacd"
      },
      "outputs": [
        {
          "name": "stdout",
          "output_type": "stream",
          "text": [
            "0    0.477882\n",
            "1   -0.241607\n",
            "2   -0.329369\n",
            "3   -0.372854\n",
            "4    0.268572\n",
            "Name: distance_from_home, dtype: float64\n"
          ]
        }
      ],
      "source": [
        "print(df['distance_from_home'].head())"
      ]
    },
    {
      "cell_type": "code",
      "execution_count": 22,
      "metadata": {
        "id": "qT37WoVkyRST"
      },
      "outputs": [],
      "source": [
        "# Splitting the dataset for the Fraud Detection Model"
      ]
    },
    {
      "cell_type": "code",
      "execution_count": 23,
      "metadata": {
        "id": "MCPyWir_ybms"
      },
      "outputs": [],
      "source": [
        "x = df.drop('fraud', axis=1).values\n",
        "y = df['fraud'].values"
      ]
    },
    {
      "cell_type": "code",
      "execution_count": 24,
      "metadata": {
        "id": "n2RypLYazKq9"
      },
      "outputs": [],
      "source": [
        "X_train, X_test, y_train, y_test = train_test_split(x,y, test_size=0.20, random_state=0)"
      ]
    },
    {
      "cell_type": "code",
      "execution_count": 25,
      "metadata": {
        "colab": {
          "base_uri": "https://localhost:8080/"
        },
        "id": "GWZZsmic1iQl",
        "outputId": "1b368d8d-6a85-48e8-bc5b-4f62bb6b1188"
      },
      "outputs": [
        {
          "name": "stdout",
          "output_type": "stream",
          "text": [
            "X_train Samples :- [[-0.35339769  0.98914273  0.63420962  1.          1.          0.\n",
            "   1.        ]]\n"
          ]
        }
      ],
      "source": [
        "print('X_train Samples :-', X_train[:1])"
      ]
    },
    {
      "cell_type": "code",
      "execution_count": 26,
      "metadata": {
        "colab": {
          "base_uri": "https://localhost:8080/"
        },
        "id": "8N1v82_85_1M",
        "outputId": "7f313d52-bcbd-4100-9738-dfdf4c9d54b4"
      },
      "outputs": [
        {
          "name": "stdout",
          "output_type": "stream",
          "text": [
            "X_test Samples :- [[-0.35339769  0.98914273  0.63420962  1.          1.          0.\n",
            "   1.        ]]\n"
          ]
        }
      ],
      "source": [
        "print('X_test Samples :-', X_train[0:1])"
      ]
    },
    {
      "cell_type": "code",
      "execution_count": 27,
      "metadata": {
        "colab": {
          "base_uri": "https://localhost:8080/"
        },
        "id": "KDBcLU1D2UHJ",
        "outputId": "4eea8945-f416-4192-a32e-88e28b476a0e"
      },
      "outputs": [
        {
          "name": "stdout",
          "output_type": "stream",
          "text": [
            "y_train Samples :- [0. 0. 0. 0. 0. 0. 0. 0. 0. 0. 0. 0. 0. 0. 0. 0. 0. 0. 0. 0.]\n"
          ]
        }
      ],
      "source": [
        "print('y_train Samples :-', y_train[0:20])"
      ]
    },
    {
      "cell_type": "code",
      "execution_count": 28,
      "metadata": {
        "colab": {
          "base_uri": "https://localhost:8080/"
        },
        "id": "KA2ud1UX6iCV",
        "outputId": "44206b01-2afe-405a-f5c7-6bec8714fd8e"
      },
      "outputs": [
        {
          "name": "stdout",
          "output_type": "stream",
          "text": [
            "y_test Samples :- [0. 0. 0. 0. 0. 0. 0. 0. 0. 0. 0. 0. 0. 0. 0. 0. 0. 0. 0. 0.]\n"
          ]
        }
      ],
      "source": [
        "print('y_test Samples :-', y_train[0:20])"
      ]
    },
    {
      "cell_type": "code",
      "execution_count": 29,
      "metadata": {
        "colab": {
          "base_uri": "https://localhost:8080/"
        },
        "id": "GvUE6yn82o3C",
        "outputId": "99e88a00-3a71-4922-8127-d39a96569bf2"
      },
      "outputs": [
        {
          "name": "stdout",
          "output_type": "stream",
          "text": [
            "Shape of X_Train dataset\n",
            "--------------------------\n",
            "(800000, 7)\n",
            "Shape of y_Train dataset\n",
            "------------------------\n",
            "(800000,)\n",
            "Shape of y_test dataset\n",
            "---------------------\n",
            "(200000,)\n"
          ]
        }
      ],
      "source": [
        "print('Shape of X_Train dataset')\n",
        "print('--------------------------')\n",
        "print(X_train.shape)\n",
        "\n",
        "print('Shape of y_Train dataset')\n",
        "print('------------------------')\n",
        "print(y_train.shape)\n",
        "\n",
        "\n",
        "#print('Shape of X_test dataset')\n",
        "#print('-----------------------')\n",
        "#print(X_test.shape)\n",
        "\n",
        "print('Shape of y_test dataset')\n",
        "print('---------------------')\n",
        "print(y_test.shape)\n"
      ]
    },
    {
      "cell_type": "code",
      "execution_count": 30,
      "metadata": {
        "id": "6u6e6x3-7N5T"
      },
      "outputs": [],
      "source": [
        "# MODELLING OF MINOR PROJECT "
      ]
    },
    {
      "cell_type": "code",
      "execution_count": 31,
      "metadata": {
        "id": "CklGqwEt8iOm"
      },
      "outputs": [],
      "source": [
        "#DECISION TREE"
      ]
    },
    {
      "cell_type": "code",
      "execution_count": 32,
      "metadata": {
        "id": "l-Lk8Oky8j6X"
      },
      "outputs": [],
      "source": [
        "tree_model = DecisionTreeClassifier(max_depth=3, criterion='entropy')\n",
        "tree_model.fit(X_train, y_train)\n",
        "tree_pred = tree_model.predict(X_test)\n"
      ]
    },
    {
      "cell_type": "code",
      "execution_count": 33,
      "metadata": {
        "colab": {
          "base_uri": "https://localhost:8080/"
        },
        "id": "4cL9VsP3AxEI",
        "outputId": "b2395ca0-e6a2-4998-c770-97dddf701747"
      },
      "outputs": [
        {
          "name": "stdout",
          "output_type": "stream",
          "text": [
            "-------------Accuracy Score---------------\n",
            "Accuracy score of the decision tree 0.979335\n"
          ]
        }
      ],
      "source": [
        "print('-------------Accuracy Score---------------')\n",
        "print('Accuracy score of the decision tree', (accuracy_score(y_test, tree_pred)))\n"
      ]
    },
    {
      "cell_type": "code",
      "execution_count": 34,
      "metadata": {
        "colab": {
          "base_uri": "https://localhost:8080/"
        },
        "id": "1Ae5SOgaDYJR",
        "outputId": "8ccc32eb-ed47-45ee-8072-29cff7aa37f2"
      },
      "outputs": [
        {
          "name": "stdout",
          "output_type": "stream",
          "text": [
            "----------------------F1 Score---------------------\n",
            "F1 score of the decision tree 0.8837313978676119\n"
          ]
        }
      ],
      "source": [
        "print('----------------------F1 Score---------------------')\n",
        "print('F1 score of the decision tree', (f1_score(y_test, tree_pred)))"
      ]
    },
    {
      "cell_type": "code",
      "execution_count": 35,
      "metadata": {
        "colab": {
          "base_uri": "https://localhost:8080/"
        },
        "id": "6B_ADIkFE6a-",
        "outputId": "b96feb0e-d4ca-4145-dc8d-2aab1b05d2e5"
      },
      "outputs": [
        {
          "name": "stdout",
          "output_type": "stream",
          "text": [
            "-----------Confusion Matrix------------\n",
            "Confusion matrix of the decision tree :- \n",
            " [[180160   2455]\n",
            " [  1678  15707]]\n"
          ]
        }
      ],
      "source": [
        "print('-----------Confusion Matrix------------')\n",
        "print('Confusion matrix of the decision tree :- \\n', (confusion_matrix(y_test, tree_pred)))"
      ]
    },
    {
      "cell_type": "code",
      "execution_count": 36,
      "metadata": {
        "colab": {
          "base_uri": "https://localhost:8080/",
          "height": 378
        },
        "id": "_YYFtNVwQ54J",
        "outputId": "70495c2b-ce41-4587-b6f2-39ea573605e7"
      },
      "outputs": [
        {
          "data": {
            "image/png": "[encoded data removed]",
            "text/plain": [
              "<Figure size 576x432 with 2 Axes>"
            ]
          },
          "metadata": {
            "needs_background": "light"
          },
          "output_type": "display_data"
        }
      ],
      "source": [
        "cm = confusion_matrix(y_test, tree_pred)\n",
        "fig, ax = plt.subplots(figsize=(8,6))\n",
        "sns.heatmap(cm, annot=True)\n",
        "plt.show()"
      ]
    },
    {
      "cell_type": "code",
      "execution_count": 37,
      "metadata": {
        "colab": {
          "base_uri": "https://localhost:8080/"
        },
        "id": "qUDDQaLvEDt7",
        "outputId": "07533390-b897-4393-b4c9-fe912c9a6469"
      },
      "outputs": [
        {
          "name": "stdout",
          "output_type": "stream",
          "text": [
            "---------------Classification Report------------\n",
            "Confusion matrix of the decision tree :-\n",
            "               precision    recall  f1-score   support\n",
            "\n",
            "         0.0       0.99      0.99      0.99    182615\n",
            "         1.0       0.86      0.90      0.88     17385\n",
            "\n",
            "    accuracy                           0.98    200000\n",
            "   macro avg       0.93      0.95      0.94    200000\n",
            "weighted avg       0.98      0.98      0.98    200000\n",
            "\n"
          ]
        }
      ],
      "source": [
        "print('---------------Classification Report------------')\n",
        "print('Confusion matrix of the decision tree :-\\n', (classification_report(y_test, tree_pred)))"
      ]
    },
    {
      "cell_type": "markdown",
      "metadata": {
        "id": "tqASAfYwEgRB"
      },
      "source": [
        "1. K Nearest Neighbour Algorithm"
      ]
    },
    {
      "cell_type": "code",
      "execution_count": 38,
      "metadata": {
        "id": "BUes_6bSEm1-"
      },
      "outputs": [],
      "source": [
        "knn = KNeighborsClassifier(n_neighbors=6)\n",
        "knn.fit(X_train, y_train)\n",
        "knn_pred = knn.predict(X_test)"
      ]
    },
    {
      "cell_type": "markdown",
      "metadata": {
        "id": "8oFVBTdKHbKm"
      },
      "source": [
        "N Nearest Neighbors 6 decided through Elbow method graphing in which we take N Neighbor values from 1-20 and then we store the outcomes in a dataset and then we plot a graph of that particular dataset and examine the graph. We will observe that there will be a threshold value at which the graph will be taking a shape like an elbow. According to studies it is better either to take the threshold value of that particular point or we take the values thar are near the threshold point for a good prediction."
      ]
    },
    {
      "cell_type": "code",
      "execution_count": 39,
      "metadata": {
        "colab": {
          "base_uri": "https://localhost:8080/"
        },
        "id": "Ps0J7iT8FhDf",
        "outputId": "3c62e816-660c-4cf1-b4f3-cf7fc06ec7e0"
      },
      "outputs": [
        {
          "name": "stdout",
          "output_type": "stream",
          "text": [
            "-------------------Accuracy score-------------\n",
            "Accuracy score of the KNN 0.995695\n"
          ]
        }
      ],
      "source": [
        "print('-------------------Accuracy score-------------')\n",
        "print('Accuracy score of the KNN', (accuracy_score(y_test, knn_pred)))"
      ]
    },
    {
      "cell_type": "code",
      "execution_count": 40,
      "metadata": {
        "colab": {
          "base_uri": "https://localhost:8080/"
        },
        "id": "J2_szj6PGLi4",
        "outputId": "ece6ab93-cfd9-4fda-84b6-872fc8a839d5"
      },
      "outputs": [
        {
          "name": "stdout",
          "output_type": "stream",
          "text": [
            "---------------F1 Score------------------\n",
            "F1 score of the KNN 0.9750340708092905\n"
          ]
        }
      ],
      "source": [
        "print('---------------F1 Score------------------')\n",
        "print('F1 score of the KNN', (f1_score(y_test, knn_pred)))"
      ]
    },
    {
      "cell_type": "code",
      "execution_count": 41,
      "metadata": {
        "colab": {
          "base_uri": "https://localhost:8080/"
        },
        "id": "S98HYzYES_Ln",
        "outputId": "16169f00-42d9-4896-ea09-d9709376631a"
      },
      "outputs": [
        {
          "name": "stdout",
          "output_type": "stream",
          "text": [
            "--------------Confusion Matrix------------\n",
            "Confusion matrix of the KNN :- \n",
            " [[182326    289]\n",
            " [   572  16813]]\n"
          ]
        }
      ],
      "source": [
        "print('--------------Confusion Matrix------------')\n",
        "print('Confusion matrix of the KNN :- \\n', (confusion_matrix(y_test, knn_pred)))"
      ]
    },
    {
      "cell_type": "code",
      "execution_count": 42,
      "metadata": {
        "colab": {
          "base_uri": "https://localhost:8080/",
          "height": 374
        },
        "id": "ni7fi4ayQoZa",
        "outputId": "76ff7f8c-26da-4f3a-b351-ffc510b88305"
      },
      "outputs": [
        {
          "data": {
            "image/png": "[encoded data removed]",
            "text/plain": [
              "<Figure size 576x432 with 2 Axes>"
            ]
          },
          "metadata": {
            "needs_background": "light"
          },
          "output_type": "display_data"
        }
      ],
      "source": [
        "cm = confusion_matrix(y_test, knn_pred)\n",
        "fig, ax = plt.subplots(figsize=(8,6))\n",
        "sns.heatmap(cm, annot=True)\n",
        "plt.show()"
      ]
    },
    {
      "cell_type": "code",
      "execution_count": 43,
      "metadata": {
        "colab": {
          "base_uri": "https://localhost:8080/"
        },
        "id": "m34TDMnpTb6U",
        "outputId": "56a08f26-9a82-43da-989e-66f0c750a77b"
      },
      "outputs": [
        {
          "name": "stdout",
          "output_type": "stream",
          "text": [
            "---------------Classification Report------------\n",
            "Confusion matrix of the KNN :- \n",
            "               precision    recall  f1-score   support\n",
            "\n",
            "         0.0       1.00      1.00      1.00    182615\n",
            "         1.0       0.98      0.97      0.98     17385\n",
            "\n",
            "    accuracy                           1.00    200000\n",
            "   macro avg       0.99      0.98      0.99    200000\n",
            "weighted avg       1.00      1.00      1.00    200000\n",
            "\n"
          ]
        }
      ],
      "source": [
        "print('---------------Classification Report------------')\n",
        "print('Confusion matrix of the KNN :- \\n', (classification_report(y_test, knn_pred)))"
      ]
    },
    {
      "cell_type": "markdown",
      "metadata": {
        "id": "exoJbgjiT59r"
      },
      "source": [
        "LOGISTIC REGRESSION"
      ]
    },
    {
      "cell_type": "code",
      "execution_count": 44,
      "metadata": {
        "id": "Rcz65fL3T3oN"
      },
      "outputs": [],
      "source": [
        "lr = LogisticRegression()\n",
        "lr.fit(X_train, y_train)\n",
        "lr_pred = lr.predict(X_test)"
      ]
    },
    {
      "cell_type": "code",
      "execution_count": 45,
      "metadata": {
        "colab": {
          "base_uri": "https://localhost:8080/"
        },
        "id": "u5322E4PUkI_",
        "outputId": "e101ccc4-9282-4535-8a2b-451d8901ce7a"
      },
      "outputs": [
        {
          "name": "stdout",
          "output_type": "stream",
          "text": [
            "-----------Accuracy Score-----------\n",
            "Accuracy score of the Logistic Regression 0.95915\n"
          ]
        }
      ],
      "source": [
        "print('-----------Accuracy Score-----------')\n",
        "print('Accuracy score of the Logistic Regression', (accuracy_score(y_test, lr_pred)))"
      ]
    },
    {
      "cell_type": "code",
      "execution_count": 46,
      "metadata": {
        "colab": {
          "base_uri": "https://localhost:8080/"
        },
        "id": "7cQcXlL7UqCL",
        "outputId": "52711c95-2c97-43a3-ea25-2fc1d8b0e766"
      },
      "outputs": [
        {
          "name": "stdout",
          "output_type": "stream",
          "text": [
            "-----------F1 Score-----------\n",
            "F1 score of the logistic regression 0.7196486171161898\n"
          ]
        }
      ],
      "source": [
        "print('-----------F1 Score-----------')\n",
        "print('F1 score of the logistic regression', (f1_score(y_test, lr_pred)))"
      ]
    },
    {
      "cell_type": "code",
      "execution_count": 47,
      "metadata": {
        "colab": {
          "base_uri": "https://localhost:8080/"
        },
        "id": "zK39Io9PUwUE",
        "outputId": "a14a1be2-787d-4528-d086-23209107934d"
      },
      "outputs": [
        {
          "name": "stdout",
          "output_type": "stream",
          "text": [
            "-----------Confusion Matrix-----------\n",
            "Confusion Matrix of the logistic regression :- \n",
            " [[181344   1271]\n",
            " [  6899  10486]]\n"
          ]
        }
      ],
      "source": [
        "print('-----------Confusion Matrix-----------')\n",
        "print('Confusion Matrix of the logistic regression :- \\n', (confusion_matrix(y_test, lr_pred)))"
      ]
    },
    {
      "cell_type": "code",
      "execution_count": 48,
      "metadata": {
        "colab": {
          "base_uri": "https://localhost:8080/"
        },
        "id": "cd4fckCIU1jv",
        "outputId": "4b3baa18-fc0c-4e11-e3eb-c0c358dba2be"
      },
      "outputs": [
        {
          "name": "stdout",
          "output_type": "stream",
          "text": [
            "-----------Classification Report-----------\n",
            "Confusion Matrix of the logistic regression :- \n",
            "               precision    recall  f1-score   support\n",
            "\n",
            "         0.0       0.96      0.99      0.98    182615\n",
            "         1.0       0.89      0.60      0.72     17385\n",
            "\n",
            "    accuracy                           0.96    200000\n",
            "   macro avg       0.93      0.80      0.85    200000\n",
            "weighted avg       0.96      0.96      0.96    200000\n",
            "\n"
          ]
        }
      ],
      "source": [
        "print('-----------Classification Report-----------')\n",
        "print('Confusion Matrix of the logistic regression :- \\n', (classification_report(y_test, lr_pred)))"
      ]
    },
    {
      "cell_type": "markdown",
      "metadata": {
        "id": "MD-x97xFU-Xj"
      },
      "source": [
        "RANDOM FOREST"
      ]
    },
    {
      "cell_type": "code",
      "execution_count": 49,
      "metadata": {
        "id": "rlvaNxmJU99X"
      },
      "outputs": [],
      "source": [
        "rf = RandomForestClassifier()\n",
        "rf.fit(X_train, y_train)\n",
        "rf_pred = rf.predict(X_test)\n"
      ]
    },
    {
      "cell_type": "code",
      "execution_count": 50,
      "metadata": {
        "colab": {
          "base_uri": "https://localhost:8080/"
        },
        "id": "AvquDREXdYvP",
        "outputId": "6d43d520-baa6-4fe6-db8c-b1bf3e1fbe7d"
      },
      "outputs": [
        {
          "name": "stdout",
          "output_type": "stream",
          "text": [
            "-----------Accuracy Score-----------\n",
            "Accuracy score of the Random forest 0.99999\n"
          ]
        }
      ],
      "source": [
        "print('-----------Accuracy Score-----------')\n",
        "print('Accuracy score of the Random forest', (accuracy_score(y_test, rf_pred)))"
      ]
    },
    {
      "cell_type": "code",
      "execution_count": 51,
      "metadata": {
        "colab": {
          "base_uri": "https://localhost:8080/"
        },
        "id": "qCcuphC3VXtA",
        "outputId": "fc922f03-aac5-4f7b-ab04-93a940113801"
      },
      "outputs": [
        {
          "name": "stdout",
          "output_type": "stream",
          "text": [
            "-----------F1 Score-----------\n",
            "F1 score of the random forest 0.9999424758398527\n"
          ]
        }
      ],
      "source": [
        "print('-----------F1 Score-----------')\n",
        "print('F1 score of the random forest', (f1_score(y_test, rf_pred)))"
      ]
    },
    {
      "cell_type": "code",
      "execution_count": 52,
      "metadata": {
        "colab": {
          "base_uri": "https://localhost:8080/"
        },
        "id": "qTVxE1V_Vaoo",
        "outputId": "3e3f8525-a840-488e-91c7-5c9144d77f55"
      },
      "outputs": [
        {
          "name": "stdout",
          "output_type": "stream",
          "text": [
            "-----------Confusion Matrix-----------\n",
            "Confusion Matrix of the random forest :- \n",
            " [[182615      0]\n",
            " [     2  17383]]\n"
          ]
        }
      ],
      "source": [
        "print('-----------Confusion Matrix-----------')\n",
        "print('Confusion Matrix of the random forest :- \\n', (confusion_matrix(y_test, rf_pred)))"
      ]
    },
    {
      "cell_type": "code",
      "execution_count": 53,
      "metadata": {
        "colab": {
          "base_uri": "https://localhost:8080/"
        },
        "id": "ZqZiIjleVb-9",
        "outputId": "e7b4f072-9b78-477b-ab15-aefb33ae08cf"
      },
      "outputs": [
        {
          "name": "stdout",
          "output_type": "stream",
          "text": [
            "-----------Classification Report-----------\n",
            "Confusion Matrix of the random forest :- \n",
            "               precision    recall  f1-score   support\n",
            "\n",
            "         0.0       1.00      1.00      1.00    182615\n",
            "         1.0       1.00      1.00      1.00     17385\n",
            "\n",
            "    accuracy                           1.00    200000\n",
            "   macro avg       1.00      1.00      1.00    200000\n",
            "weighted avg       1.00      1.00      1.00    200000\n",
            "\n"
          ]
        }
      ],
      "source": [
        "print('-----------Classification Report-----------')\n",
        "print('Confusion Matrix of the random forest :- \\n', (classification_report(y_test, rf_pred)))"
      ]
    },
    {
      "cell_type": "markdown",
      "metadata": {
        "id": "WPnrpltAPXCw"
      },
      "source": [
        "ROC - AUC CURVE"
      ]
    },
    {
      "cell_type": "code",
      "execution_count": 54,
      "metadata": {
        "id": "P5C5pNN6PaeG"
      },
      "outputs": [],
      "source": [
        "from sklearn.metrics import roc_auc_score, roc_curve"
      ]
    },
    {
      "cell_type": "code",
      "execution_count": 55,
      "metadata": {
        "colab": {
          "base_uri": "https://localhost:8080/"
        },
        "id": "zi2141YBPdMa",
        "outputId": "154dd9b7-8fd4-4687-9eac-e997a85adfc4"
      },
      "outputs": [
        {
          "name": "stdout",
          "output_type": "stream",
          "text": [
            "ROC-AUC Score is:- 0.9450182140044192\n"
          ]
        }
      ],
      "source": [
        "#ForDecisionTree\n",
        "score = roc_auc_score(y_test, tree_pred)\n",
        "print('ROC-AUC Score is:-', score)"
      ]
    },
    {
      "cell_type": "code",
      "execution_count": 56,
      "metadata": {
        "id": "aIboIH6gPyaA"
      },
      "outputs": [],
      "source": [
        "fpr, tpr, thresholds = roc_curve(y_test, tree_pred)"
      ]
    },
    {
      "cell_type": "code",
      "execution_count": 57,
      "metadata": {
        "colab": {
          "base_uri": "https://localhost:8080/",
          "height": 265
        },
        "id": "5-0oSQirP6Pv",
        "outputId": "7bd800ea-da3e-49e0-9300-c0847f47f2d2"
      },
      "outputs": [
        {
          "data": {
            "image/png": "[encoded data removed]",
            "text/plain": [
              "<Figure size 432x288 with 1 Axes>"
            ]
          },
          "metadata": {
            "needs_background": "light"
          },
          "output_type": "display_data"
        }
      ],
      "source": [
        "plt.plot(fpr, tpr, label='ROC Curve (area=%0.4f)' % score)\n",
        "plt.plot([0,2], [0,2], 'k--')\n",
        "plt.legend()\n",
        "plt.show()"
      ]
    },
    {
      "cell_type": "code",
      "execution_count": 58,
      "metadata": {
        "colab": {
          "base_uri": "https://localhost:8080/"
        },
        "id": "CcZoC0ZbQGl6",
        "outputId": "a10e1c7b-52dd-408d-e013-464ca4af655d"
      },
      "outputs": [
        {
          "name": "stdout",
          "output_type": "stream",
          "text": [
            "ROC-AUC Score is:- 0.9999424791486914\n"
          ]
        }
      ],
      "source": [
        "#ForRandomForest\n",
        "rf_score = roc_auc_score(y_test, rf_pred)\n",
        "print('ROC-AUC Score is:-', rf_score)"
      ]
    },
    {
      "cell_type": "code",
      "execution_count": 59,
      "metadata": {
        "id": "xlpVRs9qQUCY"
      },
      "outputs": [],
      "source": [
        "fpr, tpr, thresholds = roc_curve(y_test, rf_pred)"
      ]
    },
    {
      "cell_type": "code",
      "execution_count": 60,
      "metadata": {
        "colab": {
          "base_uri": "https://localhost:8080/",
          "height": 265
        },
        "id": "iP1et7UZQYJD",
        "outputId": "849cb112-1ca3-4fd0-b0ed-d3cabba8273b"
      },
      "outputs": [
        {
          "data": {
            "image/png": "[encoded data removed]",
            "text/plain": [
              "<Figure size 432x288 with 1 Axes>"
            ]
          },
          "metadata": {
            "needs_background": "light"
          },
          "output_type": "display_data"
        }
      ],
      "source": [
        "plt.plot(fpr, tpr, label='ROC Curve (area=%0.2f)' % rf_score)\n",
        "plt.plot([0,1], [0,1], 'k--')\n",
        "plt.legend()\n",
        "plt.show()"
      ]
    }
  ],
  "metadata": {
    "colab": {
      "collapsed_sections": [],
      "name": "FraudDetection.ipynb",
      "provenance": []
    },
    "kernelspec": {
      "display_name": "Python 3.9.7 ('base')",
      "language": "python",
      "name": "python3"
    },
    "language_info": {
      "codemirror_mode": {
        "name": "ipython",
        "version": 3
      },
      "file_extension": ".py",
      "mimetype": "text/x-python",
      "name": "python",
      "nbconvert_exporter": "python",
      "pygments_lexer": "ipython3",
      "version": "3.9.7"
    },
    "vscode": {
      "interpreter": {
        "hash": "f0b7333da218775e0d10eaa8939b9fba0a40c900e904e0630ec4f402e4ffc861"
      }
    }
  },
  "nbformat": 4,
  "nbformat_minor": 0
}
